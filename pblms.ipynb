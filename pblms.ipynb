{
 "cells": [
  {
   "cell_type": "markdown",
   "id": "b8fca925-67a1-41b3-b080-af3f04213390",
   "metadata": {
    "scrolled": true
   },
   "source": [
    "#### def count_vowel(s):\n",
    "   dic={'A':0,'E':0,'I':0,'O':0,'U':0}\n",
    "   for i in s:\n",
    "    if i=='a' or i=='A':\n",
    "        dic['A']+=1\n",
    "    elif  i=='e' or i=='E':\n",
    "        dic['E']+=1\n",
    "    elif  i=='i' or i=='I':\n",
    "        dic['I']+=1\n",
    "    elif  i=='o' or i=='O':\n",
    "        dic['O']+=1\n",
    "    elif  i=='u' or i=='U':\n",
    "        dic['U']+=1\n",
    "    x=max(dic.values())\n",
    "    result=[]\n",
    "    for i,j in dic.items():\n",
    "        if j==x:\n",
    "           result.append(i)\n",
    "    print(result)\n",
    "\n",
    "ip=[[\"Alex\",\"I enjoy hiking in the mountains.\"],\n",
    "    [\"Sam\",\"A lovely sunny day at the beach.\"],\n",
    "    [\"Jamie\",\"Reading a book is my favorite pastime.\"],\n",
    "    [\"Taylor\",\"I love playing video games on weekends.\"],\n",
    "    [\"Chris\",\"Exploring new cities is and countries .\"]]\n",
    "\n",
    "op={}\n",
    "for i in ip:\n",
    "    op[i[o]]=count_vowel(i[1])\n",
    "print(op)\n"
   ]
  },
  {
   "cell_type": "code",
   "execution_count": 9,
   "id": "844a9565-787e-4ace-959c-563d35ca2047",
   "metadata": {},
   "outputs": [
    {
     "name": "stdout",
     "output_type": "stream",
     "text": [
      "{'Alex': ['I'], 'Sam': ['A'], 'Jamie': ['A', 'I']}\n"
     ]
    }
   ],
   "source": [
    "def count_vowel(s):\n",
    "    dic={'A':0,'E':0,'I':0,'O':0,'U':0}\n",
    "    for i in s:\n",
    "        if i=='a' or i=='A':\n",
    "            dic['A']+=1\n",
    "        elif i=='e' or i=='E':\n",
    "            dic['E']+=1\n",
    "        elif i=='i' or i=='I':\n",
    "            dic['I']+=1\n",
    "        elif i=='o' or i=='O':\n",
    "            dic['O']+=1\n",
    "        elif i=='u' or i=='U':\n",
    "            dic['U']+=1\n",
    "\n",
    "    x=max(dic.values())\n",
    "    result=[]\n",
    "    for i,j in dic.items():\n",
    "        if j==x:\n",
    "            result.append(i)\n",
    "    return(result)\n",
    "i_p=[[\"Alex\",\"I enjoy hiking in the mountains.\"],[\"Sam\",\"Alovely sunny day at the beach.\"],[\"Jamie\",\"Reading a book is my favorite pastime.\"]]\n",
    "\n",
    "o_p={}\n",
    "for i in i_p:\n",
    "    o_p[i[0]]=count_vowel(i[1])\n",
    "print(o_p)  "
   ]
  },
  {
   "cell_type": "code",
   "execution_count": 2,
   "id": "9c925987-30f6-4c60-a8de-8238de5c10b9",
   "metadata": {},
   "outputs": [
    {
     "name": "stdout",
     "output_type": "stream",
     "text": [
      "17 4 6 7\n"
     ]
    }
   ],
   "source": [
    "l=[2,4,3,5,6,3,4,6,7,1,2,5]\n",
    "sum=max=0\n",
    "for i in range(0,len(l)-2):\n",
    "    sum=l[i]+l[i+1]+l[i+2]\n",
    "    if max<sum:\n",
    "        max =sum\n",
    "        pos=i\n",
    "print(max,l[pos],l[pos+1],l[pos+2])"
   ]
  },
  {
   "cell_type": "code",
   "execution_count": 13,
   "id": "597ec47b-5167-43a5-b1cf-9e73d9f4eb6b",
   "metadata": {},
   "outputs": [
    {
     "name": "stdin",
     "output_type": "stream",
     "text": [
      "enter the no of continous digit: 5\n"
     ]
    },
    {
     "name": "stdout",
     "output_type": "stream",
     "text": [
      "30\n",
      "4\n",
      "5\n",
      "6\n",
      "7\n",
      "8\n"
     ]
    }
   ],
   "source": [
    "l=[2,3,4,5,6,7,8,4,2,4]\n",
    "sum=max=0\n",
    "k=int(input(\"enter the no of continous digit:\"))\n",
    "for i in range(0,len(l)-k+1):\n",
    "    sum=0\n",
    "    for j in range(0,k):\n",
    "        sum+=l[i+j]\n",
    "    if max<sum:\n",
    "        max=sum\n",
    "        pos=i\n",
    "print(max)\n",
    "for j in range(0,k):\n",
    "    print(l[pos+j])\n",
    "        "
   ]
  },
  {
   "cell_type": "code",
   "execution_count": 29,
   "id": "2fdff594-5231-485e-bab6-c07860ae8b2e",
   "metadata": {},
   "outputs": [
    {
     "name": "stdin",
     "output_type": "stream",
     "text": [
      "enter the no of continous digit: 3\n"
     ]
    },
    {
     "name": "stdout",
     "output_type": "stream",
     "text": [
      "24\n",
      "4\n",
      "10\n",
      "10\n"
     ]
    }
   ],
   "source": [
    "l=[2,3,4,5,6,7,8,4,2,4,10,10,20]\n",
    "window=max=0\n",
    "k=int(input(\"enter the no of continous digit:\"))\n",
    "\n",
    "for j in range(0,k):\n",
    "      window+=l[j]\n",
    "    \n",
    "for i in range(0,len(l)-k):\n",
    "    if max<window:\n",
    "       max=window\n",
    "       pos=i\n",
    "    window = window+l[i+k]-l[i]\n",
    "print(max)\n",
    "for j in range(0,k):\n",
    "    print(l[pos+j])\n",
    "        "
   ]
  },
  {
   "cell_type": "code",
   "execution_count": 34,
   "id": "184e0b94-4ed6-416b-9033-8965eb23ec0d",
   "metadata": {},
   "outputs": [
    {
     "name": "stdin",
     "output_type": "stream",
     "text": [
      "enter the no of continous digit: 3\n"
     ]
    },
    {
     "name": "stdout",
     "output_type": "stream",
     "text": [
      "1\n"
     ]
    },
    {
     "ename": "IndexError",
     "evalue": "list index out of range",
     "output_type": "error",
     "traceback": [
      "\u001b[1;31m---------------------------------------------------------------------------\u001b[0m",
      "\u001b[1;31mIndexError\u001b[0m                                Traceback (most recent call last)",
      "Cell \u001b[1;32mIn[34], line 6\u001b[0m\n\u001b[0;32m      4\u001b[0m \u001b[38;5;28mprint\u001b[39m(\u001b[38;5;28mlen\u001b[39m(l))\n\u001b[0;32m      5\u001b[0m \u001b[38;5;28;01mfor\u001b[39;00m j \u001b[38;5;129;01min\u001b[39;00m \u001b[38;5;28mrange\u001b[39m(\u001b[38;5;241m0\u001b[39m,k):\n\u001b[1;32m----> 6\u001b[0m     window\u001b[38;5;241m+\u001b[39m\u001b[38;5;241m=\u001b[39m\u001b[43ml\u001b[49m\u001b[43m[\u001b[49m\u001b[43mj\u001b[49m\u001b[43m]\u001b[49m\n\u001b[0;32m      7\u001b[0m l\u001b[38;5;241m.\u001b[39mappend(\u001b[38;5;241m0\u001b[39m)\n\u001b[0;32m      8\u001b[0m \u001b[38;5;28;01mfor\u001b[39;00m i \u001b[38;5;129;01min\u001b[39;00m \u001b[38;5;28mrange\u001b[39m(\u001b[38;5;241m0\u001b[39m,\u001b[38;5;28mlen\u001b[39m(l)\u001b[38;5;241m-\u001b[39mk):\n",
      "\u001b[1;31mIndexError\u001b[0m: list index out of range"
     ]
    }
   ],
   "source": [
    "l=[3]\n",
    "window=max=0\n",
    "k=int(input(\"enter the no of continous digit:\"))\n",
    "print(len(l))\n",
    "for j in range(0,k):\n",
    "    window+=l[j]\n",
    "l.append(0)\n",
    "for i in range(0,len(l)-k):\n",
    "    if max<window:\n",
    "       max=window\n",
    "       pos=i\n",
    "    window=window+l[i+k]-l[i]\n",
    "\n",
    "print(\"result\")    \n",
    "print(max)\n",
    "for j in range(0,k):\n",
    "    print(l[pos+j])\n"
   ]
  },
  {
   "cell_type": "code",
   "execution_count": 11,
   "id": "4ed8e0fb-98bf-414a-b9e9-63305aad1b47",
   "metadata": {},
   "outputs": [
    {
     "name": "stdin",
     "output_type": "stream",
     "text": [
      " 3 4 5 68 9\n"
     ]
    },
    {
     "name": "stdout",
     "output_type": "stream",
     "text": [
      "[3, 4, 5, 9, 68]\n"
     ]
    }
   ],
   "source": [
    "L=list(map(int,input().split()))\n",
    "n=len(L)\n",
    "for j in range(0,n):\n",
    "    for i in range(0,n-1-j):\n",
    "       if L[i]>L[i+1]:\n",
    "            L[i],L[i+1]=L[i+1],L[i]\n",
    "print(L)\n",
    "\n",
    "            "
   ]
  },
  {
   "cell_type": "code",
   "execution_count": 14,
   "id": "f44bc34e-3850-49e2-b1d7-48047976b2bb",
   "metadata": {},
   "outputs": [
    {
     "name": "stdin",
     "output_type": "stream",
     "text": [
      " 3 4 6 2 \n"
     ]
    },
    {
     "name": "stdout",
     "output_type": "stream",
     "text": [
      "6\n"
     ]
    }
   ],
   "source": [
    "L=list(map(int,input().split()))\n",
    "a=max(L)\n",
    "print(a)"
   ]
  },
  {
   "cell_type": "code",
   "execution_count": 27,
   "id": "35d3d1de-b99a-489d-9cce-3aa714f4ff2b",
   "metadata": {},
   "outputs": [
    {
     "name": "stdin",
     "output_type": "stream",
     "text": [
      " 2 67 5 9 3\n"
     ]
    },
    {
     "name": "stdout",
     "output_type": "stream",
     "text": [
      "[2, 3, 5, 9, 67]\n"
     ]
    }
   ],
   "source": [
    "#bubble sort\n",
    "L=list(map(int,input().split()))\n",
    "for j in range(0,n):\n",
    "    pos=j\n",
    "    min=L[j]\n",
    "    for i in range(j,n):\n",
    "        if L[i]<min:\n",
    "            min=L[i]\n",
    "            pos=i\n",
    "        L[j],L[pos]=L[pos],L[j]\n",
    "print(L)"
   ]
  },
  {
   "cell_type": "code",
   "execution_count": null,
   "id": "4ed21060-48ec-4ba3-a9a4-67b0d0d8b46e",
   "metadata": {},
   "outputs": [],
   "source": [
    "#selection sort\n",
    "L=list(map(int,input().split()))\n",
    "for j in range(0,n):\n",
    "    "
   ]
  },
  {
   "cell_type": "code",
   "execution_count": 30,
   "id": "84e659a0-3690-4968-9720-aa4977366754",
   "metadata": {},
   "outputs": [
    {
     "name": "stdout",
     "output_type": "stream",
     "text": [
      "10\n",
      "9\n",
      "8\n",
      "7\n",
      "6\n",
      "5\n",
      "4\n",
      "3\n",
      "2\n",
      "1\n"
     ]
    }
   ],
   "source": [
    "def print_n(n):\n",
    "    if n>0:\n",
    "        print(n)\n",
    "        print_n(n-1)\n",
    "print_n(10)\n",
    "    "
   ]
  },
  {
   "cell_type": "code",
   "execution_count": 31,
   "id": "d2c4c901-d6d0-420a-b994-2ca16898b2fe",
   "metadata": {},
   "outputs": [
    {
     "name": "stdout",
     "output_type": "stream",
     "text": [
      "0\n",
      "1\n",
      "2\n",
      "3\n",
      "4\n",
      "5\n",
      "6\n",
      "7\n",
      "8\n",
      "9\n"
     ]
    }
   ],
   "source": [
    "def print_n(n):\n",
    "    if n<10:\n",
    "        print(n)\n",
    "        print_n(n+1)\n",
    "print_n(0)\n",
    "    "
   ]
  },
  {
   "cell_type": "code",
   "execution_count": 53,
   "id": "ccc1b200-7d6a-4c62-ad7b-2837607a6ed6",
   "metadata": {},
   "outputs": [
    {
     "name": "stdin",
     "output_type": "stream",
     "text": [
      " 3\n"
     ]
    },
    {
     "name": "stdout",
     "output_type": "stream",
     "text": [
      "1\n",
      "[3]\n"
     ]
    }
   ],
   "source": [
    "t=[0]\n",
    "def fib(n):\n",
    "    t[0]+=1\n",
    "    if n==1:\n",
    "        return 0\n",
    "    if n==2:\n",
    "        return 1\n",
    "    return fib(n-1)+fib(n-2)\n",
    "\n",
    "if __name__==\"__main__\":\n",
    "    n=int(input())\n",
    "    print(fib(n))\n",
    "    print(t)\n",
    "       "
   ]
  },
  {
   "cell_type": "code",
   "execution_count": 52,
   "id": "f5ffdeeb-91e7-4302-a3a3-b775e7461cc9",
   "metadata": {},
   "outputs": [
    {
     "name": "stdin",
     "output_type": "stream",
     "text": [
      " 4\n"
     ]
    },
    {
     "name": "stdout",
     "output_type": "stream",
     "text": [
      "24\n",
      "[5]\n"
     ]
    }
   ],
   "source": [
    "t=[0]\n",
    "def fact(n):\n",
    "    t[0]+=1\n",
    "    if n==0:\n",
    "        return 1\n",
    "    return n *fact(n-1)\n",
    "if __name__==\"__main__\":\n",
    "    n=int(input())\n",
    "    print(fact(n))\n",
    "    print(t)"
   ]
  },
  {
   "cell_type": "code",
   "execution_count": 10,
   "id": "1fb8be12-4277-44dd-b9f9-854a67964082",
   "metadata": {},
   "outputs": [
    {
     "name": "stdin",
     "output_type": "stream",
     "text": [
      " 4 7 3 8 9 2\n"
     ]
    },
    {
     "name": "stdout",
     "output_type": "stream",
     "text": [
      "0 5\n",
      "0 0 5\n",
      "2 1 5\n",
      "3 3 5\n",
      "4 4 5\n",
      "Sorted Array = [2, 3, 4, 7, 8, 9]\n"
     ]
    }
   ],
   "source": [
    "# Quick sort\n",
    "def divide(L,Low,High):\n",
    "    p=L[High]\n",
    "    pi=High\n",
    "    j=Low-1\n",
    "    for i in range(Low,High):\n",
    "        if L[i]<=p:\n",
    "            j+=1\n",
    "            L[i],L[j]=L[j],L[i]\n",
    "    j+=1\n",
    "    L[j],L[pi]=L[pi],L[j]\n",
    "    pi=j\n",
    "    return pi\n",
    "\n",
    "def Quick_sort(L,Low,High):\n",
    "    if Low<High:\n",
    "        pi=divide(L,Low,High)\n",
    "        print(pi,Low,High)\n",
    "        Quick_sort(L,Low,pi-1)\n",
    "        Quick_sort(L,pi+1,High)\n",
    "    return\n",
    "\n",
    "\n",
    "if __name__==\"__main__\":\n",
    "    L=list(map(int,input().split()))\n",
    "    Low=0\n",
    "    High=len(L)-1\n",
    "    print(Low,High)\n",
    "    Quick_sort(L,Low,High)\n",
    "\n",
    "    print(\"Sorted Array =\",L)"
   ]
  },
  {
   "cell_type": "code",
   "execution_count": 12,
   "id": "4cbc64a7-16a5-477d-ba7b-29324e4b2b12",
   "metadata": {},
   "outputs": [
    {
     "ename": "IndentationError",
     "evalue": "unindent does not match any outer indentation level (<string>, line 22)",
     "output_type": "error",
     "traceback": [
      "\u001b[1;36m  File \u001b[1;32m<string>:22\u001b[1;36m\u001b[0m\n\u001b[1;33m    while j<len(right):\u001b[0m\n\u001b[1;37m                       ^\u001b[0m\n\u001b[1;31mIndentationError\u001b[0m\u001b[1;31m:\u001b[0m unindent does not match any outer indentation level\n"
     ]
    }
   ],
   "source": [
    "def merge(L,low,mid,high,temp):\n",
    "    LS=mid-low+1\n",
    "    left=L[low:mid+1]\n",
    "    right=L[mid:high]\n",
    "    temp=[0]*len(L)\n",
    "    i=j=t=0\n",
    "\n",
    "    while i<len(left) and j<len(right):\n",
    "        if left[i]<right[j]:\n",
    "            temp[t]=left[i]\n",
    "            i+=1\n",
    "            t+=1\n",
    "        else:\n",
    "            temp[t]=right[j]\n",
    "            j+=1\n",
    "            t+=1\n",
    "\n",
    "    while i<len(left):\n",
    "        temp[t]=left[i]\n",
    "        i+=1\n",
    "        t+=1\n",
    "\n",
    "   while j<len(right):\n",
    "       temp[t]=right[j]\n",
    "       j+=1\n",
    "       t+=1\n",
    "\n",
    "   print(L,low,mid,high)\n",
    "\n",
    "def mergersort(L,low,high):\n",
    "    if low<high:\n",
    "        mid=low+(high-low)//2\n",
    "        mergesort(L,low,mid)\n",
    "        mergesort(L,mid+1,high)\n",
    "\n",
    "        merge(L,low,mid,high)\n",
    "\n",
    "if __name__==\"__main__\":\n",
    "    L=list(map(int,input().split()))\n",
    "    Low=0\n",
    "    High=len(L)-1\n",
    "    print(Low,High)\n",
    "    Quick_sort(L,Low,High)\n",
    "\n",
    "    print(\"Sorted Array =\",L)    \n",
    "        "
   ]
  },
  {
   "cell_type": "code",
   "execution_count": 2,
   "id": "21c7bb3d-2283-42d9-8eab-0acd2d85779a",
   "metadata": {},
   "outputs": [
    {
     "name": "stdin",
     "output_type": "stream",
     "text": [
      " 4 7 2 1 4\n"
     ]
    },
    {
     "name": "stdout",
     "output_type": "stream",
     "text": [
      "Sorted array is: [1, 2, 4, 4, 7]\n"
     ]
    }
   ],
   "source": [
    "#merge sort\n",
    "def merge_sort(arr):\n",
    "    if len(arr) > 1:\n",
    "        mid = len(arr) // 2\n",
    "        \n",
    "        left = arr[:mid]\n",
    "        right = arr[mid:]\n",
    "        \n",
    "        merge_sort(left)\n",
    "        merge_sort(right)\n",
    "\n",
    "        i = j = k = 0\n",
    "        \n",
    "        while i < len(left) and j < len(right):\n",
    "            if left[i] < right[j]:\n",
    "                arr[k] = left[i]\n",
    "                i += 1\n",
    "            else:\n",
    "                arr[k] = right[j]\n",
    "                j += 1\n",
    "            k += 1\n",
    "        \n",
    "        while i < len(left):\n",
    "            arr[k] = left[i]\n",
    "            i += 1\n",
    "            k += 1\n",
    "        \n",
    "        while j < len(right):\n",
    "            arr[k] = right[j]\n",
    "            j += 1\n",
    "            k += 1\n",
    "\n",
    "if __name__==\"__main__\":\n",
    "    arr=list(map(int,input().split()))\n",
    "    merge_sort(arr)\n",
    "    print(\"Sorted array is:\", arr)"
   ]
  },
  {
   "cell_type": "code",
   "execution_count": 5,
   "id": "369f16ee-faf9-4157-bf39-c91ddaa8bfac",
   "metadata": {},
   "outputs": [
    {
     "name": "stdout",
     "output_type": "stream",
     "text": [
      "3\n",
      "2\n",
      "1\n",
      "5\n",
      "6\n",
      "8\n",
      "1\n",
      "5\n",
      "6\n",
      "8\n",
      "11\n",
      "12\n",
      "13\n",
      "1\n",
      "2\n",
      "3\n",
      "9\n",
      "10\n",
      "14\n",
      "13\n"
     ]
    }
   ],
   "source": [
    "class node:\n",
    "     \n",
    "     def __init__(self,data):\n",
    "          self.data=data\n",
    "          self.left=None\n",
    "          self.right=None\n",
    "class node_data:\n",
    "    def __init__(self,node,hkey):\n",
    "        self.node=node\n",
    "        self.hkey=hkey\n",
    "\n",
    "\n",
    "def top_view(root):\n",
    "    temp=node_data(root,0)\n",
    "    q=[temp]\n",
    "    q.append(None)\n",
    "    key_dict={}\n",
    "    while len(q)!=0:\n",
    "        curr=q.pop(0)\n",
    "        if curr==None:\n",
    "              if len(q)==0:\n",
    "                   break\n",
    "              else:\n",
    "                   q.append(None)\n",
    "        else:\n",
    "             if curr.hkey not in key_dict.keys():\n",
    "                  key_dict[curr.hkey]=curr.node.data           \n",
    "            \n",
    "\n",
    "             if curr.node.left!=None:\n",
    "               temp=node_data(curr.node.left,curr.hkey-1)\n",
    "               q.append(temp)\n",
    "             if curr.node.right!=None:   \n",
    "               temp=node_data(curr.node.right,curr.hkey+1)\n",
    "               q.append(temp)\n",
    "    for i in sorted(key_dict):\n",
    "        print(key_dict[i])\n",
    "\n",
    "def bottom_view(root):\n",
    "     temp=node_data(root,0)\n",
    "     q=[temp]\n",
    "     q.append(None)\n",
    "     key_dict={}\n",
    "     while len(q)!=0:\n",
    "          curr=q.pop(0)\n",
    "          if curr==None:\n",
    "               if len(q)==0:\n",
    "                    break\n",
    "               else:\n",
    "                    q.append(None)\n",
    "          else:\n",
    "               #    if curr.hkey not in key_dict.keys():\n",
    "               key_dict[curr.hkey]=curr.node.data           \n",
    "               \n",
    "\n",
    "               if curr.node.left!=None:\n",
    "                    temp=node_data(curr.node.left,curr.hkey-1)\n",
    "                    q.append(temp)\n",
    "               if curr.node.right!=None:   \n",
    "                    temp=node_data(curr.node.right,curr.hkey+1)\n",
    "                    q.append(temp)\n",
    "     for i in sorted(key_dict):\n",
    "          print(key_dict[i])\n",
    "def left_view(root):\n",
    "     q=[root,None]\n",
    "     print(root.data)\n",
    "     while len(q)>0:\n",
    "          c=q.pop(0)\n",
    "          if c==None:\n",
    "               # print(root.data)\n",
    "               if len(q)==0:\n",
    "                    break\n",
    "               else:\n",
    "                    # print(root.data)\n",
    "                    print(q[0].data)\n",
    "                    q.append(None)\n",
    "          else:\n",
    "               # print(c.data,end=\" \")\n",
    "               if c.left !=None:\n",
    "                    q.append(c.left)\n",
    "               if c.right!=None:\n",
    "                    q.append(c.right)     \n",
    "\n",
    "def right_view(root):\n",
    "     q=[root,None]\n",
    "     print(root.data)\n",
    "     while len(q)>0:\n",
    "          c=q.pop(0)\n",
    "          if c==None:\n",
    "               # print(root.data)\n",
    "               if len(q)==0:\n",
    "                    break\n",
    "               else:\n",
    "                    # print(root.data)\n",
    "                    print(q[-1].data)\n",
    "                    q.append(None)\n",
    "\n",
    "          else:\n",
    "               # print(c.data,end=\" \")\n",
    "\n",
    "               if c.left !=None:\n",
    "                    q.append(c.left)\n",
    "               if c.right!=None:\n",
    "                    q.append(c.right) \n",
    "\n",
    "if __name__=='__main__':\n",
    "          root=node(1)\n",
    "\n",
    "          root.left=node(2)\n",
    "          root.right=node(5)\n",
    "\n",
    "          root.left.left=node(3)\n",
    "          root.left.right=node(4)\n",
    "\n",
    "          # root.right.left=node(6)\n",
    "          root.right.right=node(6)\n",
    "\n",
    "          root.left.right.left=node(9)\n",
    "          # root.left.right.right=node(10)\n",
    "\n",
    "          root.right.right.right=node(8)\n",
    "          root.right.right.left=node(7)\n",
    "          root.right.right.left.right=node(11)\n",
    "          root.right.right.left.right.left=node(12)\n",
    "          root.right.right.left.right.left.right=node(13)\n",
    "          # root.left.right.left.left=node()\n",
    "          \n",
    "          root.left.right.left.right=node(10)\n",
    "          root.left.right.left.right.left=node(14)\n",
    "          top_view(root)\n",
    "          right_view(root)\n",
    "          left_view(root)"
   ]
  },
  {
   "cell_type": "markdown",
   "id": "99058306-1b15-491c-b198-c93f6b752e8f",
   "metadata": {},
   "source": [
    "## graphs\n"
   ]
  },
  {
   "cell_type": "code",
   "execution_count": null,
   "id": "8d95612d-ea62-401b-aa54-8597b7726d6b",
   "metadata": {},
   "outputs": [],
   "source": []
  }
 ],
 "metadata": {
  "kernelspec": {
   "display_name": "Python 3 (ipykernel)",
   "language": "python",
   "name": "python3"
  },
  "language_info": {
   "codemirror_mode": {
    "name": "ipython",
    "version": 3
   },
   "file_extension": ".py",
   "mimetype": "text/x-python",
   "name": "python",
   "nbconvert_exporter": "python",
   "pygments_lexer": "ipython3",
   "version": "3.12.0"
  }
 },
 "nbformat": 4,
 "nbformat_minor": 5
}
