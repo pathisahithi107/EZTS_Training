{
 "cells": [
  {
   "cell_type": "code",
   "execution_count": 1,
   "id": "ad01227d-6cf7-44b1-ab6c-fdd99ae71b8f",
   "metadata": {},
   "outputs": [
    {
     "name": "stdout",
     "output_type": "stream",
     "text": [
      "(1, 4)\n",
      "(2, 3)\n",
      "(3, 2)\n",
      "(4, 1)\n"
     ]
    }
   ],
   "source": [
    "a=[1,2,3,4]\n",
    "b=[4,3,2,1]\n",
    "for i in zip(a,b):\n",
    "    print(i)"
   ]
  },
  {
   "cell_type": "code",
   "execution_count": 7,
   "id": "9f455387-b724-438f-9fbe-fac87a2507e9",
   "metadata": {},
   "outputs": [
    {
     "name": "stdout",
     "output_type": "stream",
     "text": [
      "[2, 1, 0]\n",
      "(3, 2)\n",
      "(2, 1)\n",
      "(1, 0)\n"
     ]
    }
   ],
   "source": [
    "q=4\n",
    "i=3\n",
    "x=list(range(i-1,-1,-1))\n",
    "print(x)\n",
    "for i in zip(range(q-1,0,-1),range(i-1,-1,-1)):\n",
    "    print(i)"
   ]
  },
  {
   "cell_type": "code",
   "execution_count": 10,
   "id": "20fc0245-227d-4cb7-8189-cfba57e435dc",
   "metadata": {},
   "outputs": [
    {
     "name": "stdout",
     "output_type": "stream",
     "text": [
      "(3, 3)\n",
      "(2, 2)\n",
      "(1, 1)\n",
      "(0, 0)\n",
      "(3, 0)\n",
      "(2, 1)\n",
      "(1, 2)\n",
      "(0, 3)\n"
     ]
    }
   ],
   "source": [
    "q=4\n",
    "i=4\n",
    "for a in zip(range(q-1,-1,-1),range(i-1,-1,-1)):\n",
    "    print(a)\n",
    "for b in zip(range(q-1,-1,-1),range(i)):\n",
    "    print(b)\n",
    "for c in zip(range(q-1,-1,- 1),range(i+1,-1,-1)):\n",
    "    print(c)"
   ]
  },
  {
   "cell_type": "code",
   "execution_count": 24,
   "id": "c01f6dc9-130a-4fe9-b1ec-1721f29bde5a",
   "metadata": {},
   "outputs": [
    {
     "name": "stdout",
     "output_type": "stream",
     "text": [
      "[7, 5, 1]\n",
      "7\n",
      "7\n",
      "1\n",
      "1\n",
      "1\n",
      "1\n",
      "6\n"
     ]
    }
   ],
   "source": [
    "##availabledenominations using greedy algorithm\n",
    "l=[1,5,7]\n",
    "l.sort(reverse=True)\n",
    "print(l)\n",
    "b=18\n",
    "c=0\n",
    "i=0\n",
    "while(b>0):\n",
    "    #for i in range(0,len(l)):\n",
    "    if b>=l[i] and i<len(l):\n",
    "        c+=1\n",
    "        b=b-l[i]\n",
    "        print(l[i])\n",
    "    else:\n",
    "        i+=1\n",
    "\n",
    "print(c) \n",
    "\n"
   ]
  },
  {
   "cell_type": "code",
   "execution_count": null,
   "id": "424fbcf8-e0e3-440d-8012-3006682a3fe5",
   "metadata": {},
   "outputs": [],
   "source": []
  }
 ],
 "metadata": {
  "kernelspec": {
   "display_name": "Python 3 (ipykernel)",
   "language": "python",
   "name": "python3"
  },
  "language_info": {
   "codemirror_mode": {
    "name": "ipython",
    "version": 3
   },
   "file_extension": ".py",
   "mimetype": "text/x-python",
   "name": "python",
   "nbconvert_exporter": "python",
   "pygments_lexer": "ipython3",
   "version": "3.12.0"
  }
 },
 "nbformat": 4,
 "nbformat_minor": 5
}
