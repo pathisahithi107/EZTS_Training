{
 "cells": [
  {
   "cell_type": "markdown",
   "id": "e32566d5-bead-4cd0-94d7-64c031d55830",
   "metadata": {},
   "source": [
    "## Graphs"
   ]
  },
  {
   "cell_type": "code",
   "execution_count": 11,
   "id": "529dd471-5440-47b3-ace8-3f0982cc71ed",
   "metadata": {},
   "outputs": [
    {
     "name": "stdout",
     "output_type": "stream",
     "text": [
      "4\n",
      "8\n",
      "6\n",
      "3\n",
      "5\n",
      "7\n",
      "2\n",
      "1\n"
     ]
    }
   ],
   "source": [
    "a={\n",
    "  1:[(1,2,0),(1,3,0)],\n",
    "  2:[(2,1,0),(2,7,0)],\n",
    "  3:[(3,1,0),(3,6,0),(3,5,0)],\n",
    "  4:[(4,7,0),(4,8,0)],\n",
    "  5:[(5,3,0),(5,7,0)],\n",
    "  6:[(6,3,0),(6,8,0)],\n",
    "  7:[(7,2,0),(7,5,0),(7,4,0)],\n",
    "  8:[(8,4,0),(8,6,0)]\n",
    "  }\n",
    "v={1:False,2:False,3:False,4:False,5:False,6:False,7:False,8:False}\n",
    "s=[]\n",
    "e=1\n",
    "def dfs(a,v,s,e):\n",
    "    if v[e]==False:\n",
    "       s.append(e)\n",
    "       v[e]=True\n",
    "    else:\n",
    "        return\n",
    "    for i in a[e]:\n",
    "        dfs(a,v,s,i[1])\n",
    "    print(s.pop())\n",
    "dfs(a,v,s,e)\n",
    "\n",
    "      "
   ]
  },
  {
   "cell_type": "code",
   "execution_count": 17,
   "id": "90095ae6-490e-4500-8a79-1d6614661a26",
   "metadata": {},
   "outputs": [
    {
     "name": "stdout",
     "output_type": "stream",
     "text": [
      "1\n",
      "2\n",
      "3\n",
      "7\n",
      "6\n",
      "5\n",
      "4\n",
      "8\n"
     ]
    }
   ],
   "source": [
    "g={\n",
    "  1:[(1,2,0),(1,3,0)],\n",
    "  2:[(2,1,0),(2,7,0)],\n",
    "  3:[(3,1,0),(3,6,0),(3,5,0)],\n",
    "  4:[(4,7,0),(4,8,0)],\n",
    "  5:[(5,3,0),(5,7,0)],\n",
    "  6:[(6,3,0),(6,8,0)],\n",
    "  7:[(7,2,0),(7,5,0),(7,4,0)],\n",
    "  8:[(8,4,0),(8,6,0)]\n",
    "  }\n",
    "\n",
    "v={1:False,2:False,3:False,4:False,5:False,6:False,7:False,8:False}\n",
    "def bfs(g,e):\n",
    "    q=[e]\n",
    "    v={}\n",
    "    for i in g.keys():\n",
    "        v[i]=False\n",
    "    v[e]=True\n",
    "    while len(q)!=0:\n",
    "        curr=q.pop(0)\n",
    "        print(curr)\n",
    "        for i in g[curr]:\n",
    "            if v[i[1]]==False:\n",
    "               q.append(i[1])\n",
    "            v[i[1]]=True\n",
    "bfs(g,1)                    \n",
    "        "
   ]
  },
  {
   "cell_type": "code",
   "execution_count": 6,
   "id": "f5466b90-89ac-4f71-9521-dbc30ebd0af1",
   "metadata": {},
   "outputs": [
    {
     "ename": "IndentationError",
     "evalue": "unindent does not match any outer indentation level (<string>, line 10)",
     "output_type": "error",
     "traceback": [
      "\u001b[1;36m  File \u001b[1;32m<string>:10\u001b[1;36m\u001b[0m\n\u001b[1;33m    for i in list:\u001b[0m\n\u001b[1;37m                  ^\u001b[0m\n\u001b[1;31mIndentationError\u001b[0m\u001b[1;31m:\u001b[0m unindent does not match any outer indentation level\n"
     ]
    }
   ],
   "source": [
    "class node:\n",
    "def bst(self,value):\n",
    "    self.value=value\n",
    "    self.left=None\n",
    "    self.right=None\n",
    "\n",
    "def insert(self,val):\n",
    "    if root == None:\n",
    "        return node(val)\n",
    "    if val<root.value:\n",
    "        root.left=insert(root.left,val)\n",
    "    if val>root.value:\n",
    "        root.right=insert(root.right,val)\n",
    "\n",
    "    return root\n",
    "\n",
    "def inorder(root):\n",
    "    if root:\n",
    "        inorder(root.left)\n",
    "        print(root.value)\n",
    "        \n",
    "value={4,6,7,3,8,2,5,9,1}\n",
    "root=node(4)\n",
    "a=bst()\n",
    "a.bt(root)\n",
    "    "
   ]
  },
  {
   "cell_type": "code",
   "execution_count": null,
   "id": "494f17f8-854f-47b0-b61f-10d3f41a610e",
   "metadata": {},
   "outputs": [],
   "source": []
  }
 ],
 "metadata": {
  "kernelspec": {
   "display_name": "Python 3 (ipykernel)",
   "language": "python",
   "name": "python3"
  },
  "language_info": {
   "codemirror_mode": {
    "name": "ipython",
    "version": 3
   },
   "file_extension": ".py",
   "mimetype": "text/x-python",
   "name": "python",
   "nbconvert_exporter": "python",
   "pygments_lexer": "ipython3",
   "version": "3.12.0"
  }
 },
 "nbformat": 4,
 "nbformat_minor": 5
}
