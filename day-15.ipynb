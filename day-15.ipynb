{
 "cells": [
  {
   "cell_type": "markdown",
   "id": "a2e14fd5-d478-4b21-99b2-3c184ebfe2a1",
   "metadata": {},
   "source": [
    "## KMP ALGO\n"
   ]
  },
  {
   "cell_type": "code",
   "execution_count": 8,
   "id": "78ee1318-edbc-41b8-8c38-56a38f8b6733",
   "metadata": {},
   "outputs": [
    {
     "name": "stdout",
     "output_type": "stream",
     "text": [
      "[0, -1, -1, 1, 2]\n",
      "Pattern Found 10\n",
      "Pattern Found 13\n",
      "Pattern Found 16\n"
     ]
    }
   ],
   "source": [
    "def kmpalgo(p,S):\n",
    "    M=len(p)\n",
    "    N=len(S)\n",
    "    lps=[]\n",
    "    LPS(p,M,lps)\n",
    "    print(lps)\n",
    "    i=0\n",
    "    j=0\n",
    "    while(N-i)>=(M-j):\n",
    "        if p[j]==S[i]:\n",
    "            i+=1\n",
    "            j+=1\n",
    "    \n",
    "        if j == M:\n",
    "           print(\"Pattern Found\",i-j)\n",
    "           j=lps[j-1]\n",
    "        elif i<N and p[j]!=S[i]:\n",
    "           if j!=0:\n",
    "               j=lps[j-1]\n",
    "           else:\n",
    "               i+=1\n",
    "            \n",
    "           \n",
    "def LPS(p,M,lps):\n",
    "    lps.append(0)\n",
    "    j=0\n",
    "    for i in range(1,len(p)):\n",
    "        if p[i]==p[j]:\n",
    "            lps.append(j+1)\n",
    "            j=j+1\n",
    "        else:\n",
    "            j=0\n",
    "            lps.append(j-1)\n",
    "\n",
    "if __name__==\"__main__\":\n",
    "    S=\"ABABACDEABABCABCABCABCDAA\"\n",
    "    p=\"ABCAB\"\n",
    "    kmpalgo(p,S)"
   ]
  },
  {
   "cell_type": "code",
   "execution_count": 4,
   "id": "a86b76a5-fa8a-4480-8560-f7dfa8f51117",
   "metadata": {},
   "outputs": [
    {
     "name": "stdout",
     "output_type": "stream",
     "text": [
      "move1 from A toB\n",
      "move2 from A toB\n",
      "move1 from C toA\n",
      "move3 from A toB\n",
      "move1 from C toA\n",
      "move2 from C toA\n",
      "move1 from B toC\n",
      "move4 from A toB\n",
      "move1 from C toA\n",
      "move2 from C toA\n",
      "move1 from B toC\n",
      "move3 from C toA\n",
      "move1 from B toC\n",
      "move2 from B toC\n",
      "move1 from A toB\n",
      "move5 from A toB\n",
      "move1 from C toA\n",
      "move2 from C toA\n",
      "move1 from B toC\n",
      "move3 from C toA\n",
      "move1 from B toC\n",
      "move2 from B toC\n",
      "move1 from A toB\n",
      "move4 from C toA\n",
      "move1 from B toC\n",
      "move2 from B toC\n",
      "move1 from A toB\n",
      "move3 from B toC\n",
      "move1 from A toB\n",
      "move2 from A toB\n",
      "move1 from C toA\n",
      "move6 from A toB\n",
      "move1 from C toA\n",
      "move2 from C toA\n",
      "move1 from B toC\n",
      "move3 from C toA\n",
      "move1 from B toC\n",
      "move2 from B toC\n",
      "move1 from A toB\n",
      "move4 from C toA\n",
      "move1 from B toC\n",
      "move2 from B toC\n",
      "move1 from A toB\n",
      "move3 from B toC\n",
      "move1 from A toB\n",
      "move2 from A toB\n",
      "move1 from C toA\n",
      "move5 from C toA\n",
      "move1 from B toC\n",
      "move2 from B toC\n",
      "move1 from A toB\n",
      "move3 from B toC\n",
      "move1 from A toB\n",
      "move2 from A toB\n",
      "move1 from C toA\n",
      "move4 from B toC\n",
      "move1 from A toB\n",
      "move2 from A toB\n",
      "move1 from C toA\n",
      "move3 from A toB\n",
      "move1 from C toA\n",
      "move2 from C toA\n",
      "move1 from B toC\n",
      "[63]\n"
     ]
    }
   ],
   "source": [
    "ctr=[0]\n",
    "def tower(n,frm,aux,to,ctr):\n",
    "    if n==0:\n",
    "        return\n",
    "    tower(n-1,frm,aux,to,ctr)\n",
    "    print(f\"move{n} from {frm} to{to}\")\n",
    "    ctr[0]+=1\n",
    "    tower(n-1,aux,to,frm,ctr)\n",
    "\n",
    "n=6\n",
    "tower(n,'A','C','B',ctr)\n",
    "print(ctr)"
   ]
  },
  {
   "cell_type": "code",
   "execution_count": null,
   "id": "885dd7ed-c366-4feb-b52b-c47a7c8c62f0",
   "metadata": {},
   "outputs": [],
   "source": []
  },
  {
   "cell_type": "code",
   "execution_count": null,
   "id": "fcaadb0c-95d8-4b62-8937-7808557841b3",
   "metadata": {},
   "outputs": [],
   "source": []
  }
 ],
 "metadata": {
  "kernelspec": {
   "display_name": "Python 3 (ipykernel)",
   "language": "python",
   "name": "python3"
  },
  "language_info": {
   "codemirror_mode": {
    "name": "ipython",
    "version": 3
   },
   "file_extension": ".py",
   "mimetype": "text/x-python",
   "name": "python",
   "nbconvert_exporter": "python",
   "pygments_lexer": "ipython3",
   "version": "3.12.0"
  }
 },
 "nbformat": 4,
 "nbformat_minor": 5
}
