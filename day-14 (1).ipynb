{
 "cells": [
  {
   "cell_type": "markdown",
   "id": "36e59ce3-fc20-4024-9bf5-c3a7b69a0099",
   "metadata": {},
   "source": [
    "## Bellmanford algo"
   ]
  },
  {
   "cell_type": "code",
   "execution_count": 25,
   "id": "69df1f81-a6e2-446c-b911-acc9e4282aaf",
   "metadata": {},
   "outputs": [
    {
     "name": "stdout",
     "output_type": "stream",
     "text": [
      "[(0, 1), (0, 2), (0, 3), (1, 4), (2, 1), (2, 4), (3, 2), (3, 5), (4, 5)]\n",
      "{0: 0, 1: inf, 2: inf, 3: inf, 4: inf, 5: inf}\n",
      "{0: 0, 1: 1, 2: 3, 3: 5, 4: 0, 5: 3}\n"
     ]
    }
   ],
   "source": [
    "g=[\n",
    "    [0,6,4,5,False,False],\n",
    "    [False,0,False,False,False,False],\n",
    "    [False,-2,0,False,3,False],\n",
    "    [False,False,-2,0,False,False],\n",
    "    [False,False,False,False,0,3],\n",
    "    [False,False,False,False,False,0]\n",
    "]\n",
    "#d={0:\"A\",1:\"B\",2:\"C\",3:\"D\",4:\"E\",5:\"F\"}\n",
    "e_l=[]\n",
    "for i in range(len(g)):\n",
    "    for j in range(len(g[i])):\n",
    "        if g[i][j]!=False and g[i][j]!=0:\n",
    "            e_l.append(tuple((i,j)))\n",
    "\n",
    "print(e_l)\n",
    "dist={}\n",
    "for i in range(len(g)):\n",
    "    dist[i]=float(\"inf\")\n",
    "dist[0]=0\n",
    "print(dist)\n",
    "\n",
    "for i in range(len(g)False):\n",
    "    for j in e_l:\n",
    "        \n",
    "        new_dist=dist[j[0]]+g[j[0]][j[1]]\n",
    "        if dist[j[1]]>new_dist:\n",
    "            dist[j[1]]=new_dist\n",
    "\n",
    "\n",
    "print(dist)\n",
    "        \n",
    "    \n",
    "    \n",
    "\n",
    "   "
   ]
  },
  {
   "cell_type": "markdown",
   "id": "07f9ff96-a948-4f63-9e59-8930efe86134",
   "metadata": {},
   "source": [
    " ##  dijkshtra algo(**imp)"
   ]
  },
  {
   "cell_type": "code",
   "execution_count": 2,
   "id": "4e32ea23-8c2e-467b-b400-962f48a4cfc2",
   "metadata": {},
   "outputs": [
    {
     "name": "stdout",
     "output_type": "stream",
     "text": [
      "[0, 6, 10, 5, 8, 11, 8, 2, 16, 10]\n"
     ]
    }
   ],
   "source": [
    "g=[\n",
    "    [ 0, 7,False,False,False,False,False, 2,False,False],\n",
    "    [ 7, 0, 4, 1,False, 5,False,False,False,False],\n",
    "    [False, 4, 0,False,False,False,False, 8,False,False],\n",
    "    [False, 1,False, 0, 6, 8, 3, 3,False,False],\n",
    "    [False,False,False, 6, 0,False,False, 6, 8,False],\n",
    "    [False, 5,False, 8,False, 0,False,False,False,False],\n",
    "    [False,False,False, 3,False,False, 0,False, 9, 2],\n",
    "    [2,False, 8, 3, 6,False,False, 0,False,False],\n",
    "    [False,False,False,False, 8,False, 9,False, 0,False],\n",
    "    [False,False,False,False,False,False, 2,False,False, 0],\n",
    "]\n",
    "temp={}\n",
    "\n",
    "\n",
    "for i in range(len(g)):\n",
    "    temp[i]=float(\"inf\")\n",
    "dist=[float(\"inf\")]*len(g)\n",
    "temp[0]=0              #consider the start index as 0\n",
    "\n",
    "while len(temp)>0:\n",
    "    min_value=min(temp.values())\n",
    "    min_key=min(temp,key=temp.get)\n",
    "    temp.pop(min_key)\n",
    "    dist[min_key]=min_value\n",
    "    for j in range(len(g[min_key])):\n",
    "        if g[min_key][j]!=False and g[min_key][j]!=0  :\n",
    "            new_dist=min_value+g[min_key][j]\n",
    "            if j in temp.keys() and temp[j]>new_dist:\n",
    "                 temp[j]=new_dist\n",
    "print(dist)    \n",
    "            \n"
   ]
  },
  {
   "cell_type": "markdown",
   "id": "5a36beb6-fbc9-4aa7-b31e-15ebef6f0af1",
   "metadata": {},
   "source": [
    "##  travelling salesman"
   ]
  },
  {
   "cell_type": "code",
   "execution_count": 9,
   "id": "6da6537b-5dc3-4e9a-beb7-0ef9d0d951f5",
   "metadata": {},
   "outputs": [
    {
     "name": "stdout",
     "output_type": "stream",
     "text": [
      "minimum cost= 19\n",
      "(3, (0, 1, 2, 3))\n",
      "(4, (0, 1, 2, 4))\n",
      "(2, (0, 1, 2))\n",
      "(2, (0, 1, 3, 2))\n",
      "(4, (0, 1, 3, 4))\n",
      "(3, (0, 1, 3))\n",
      "(2, (0, 1, 4, 2))\n",
      "(3, (0, 1, 4, 3))\n",
      "(4, (0, 1, 4))\n",
      "(1, (0, 1))\n",
      "(3, (0, 2, 1, 3))\n",
      "(4, (0, 2, 1, 4))\n",
      "(1, (0, 2, 1))\n",
      "(1, (0, 2, 3, 1))\n",
      "(4, (0, 2, 3, 4))\n",
      "(3, (0, 2, 3))\n",
      "(1, (0, 2, 4, 1))\n",
      "(3, (0, 2, 4, 3))\n",
      "(4, (0, 2, 4))\n",
      "(2, (0, 2))\n",
      "(2, (0, 3, 1, 2))\n",
      "(4, (0, 3, 1, 4))\n",
      "(1, (0, 3, 1))\n",
      "(1, (0, 3, 2, 1))\n",
      "(4, (0, 3, 2, 4))\n",
      "(2, (0, 3, 2))\n",
      "(1, (0, 3, 4, 1))\n",
      "(2, (0, 3, 4, 2))\n",
      "(4, (0, 3, 4))\n",
      "(3, (0, 3))\n",
      "(2, (0, 4, 1, 2))\n",
      "(3, (0, 4, 1, 3))\n",
      "(1, (0, 4, 1))\n",
      "(1, (0, 4, 2, 1))\n",
      "(3, (0, 4, 2, 3))\n",
      "(2, (0, 4, 2))\n",
      "(1, (0, 4, 3, 1))\n",
      "(2, (0, 4, 3, 2))\n",
      "(3, (0, 4, 3))\n",
      "(4, (0, 4))\n",
      "(0, (0,))\n"
     ]
    }
   ],
   "source": [
    "import sys\n",
    "def cost(curr,visited,g,dp):\n",
    "    n=len(g)\n",
    "    if len(visited)==n:\n",
    "        return g[curr][0]\n",
    "    visit=tuple(visited)\n",
    "    if (curr,visit) in dp:\n",
    "        return dp[(curr,visit)]\n",
    "    min_cost=sys.maxsize\n",
    "    for i in range(n):\n",
    "        if i not in visited:\n",
    "            new_visit=visited+[i]\n",
    "            new_cost=g[curr][i]+cost(i,new_visit,g,dp)\n",
    "            min_cost=min(min_cost,new_cost)\n",
    "    dp[(curr,visit)]=min_cost\n",
    "    return min_cost\n",
    "g=[\n",
    "    [0,4,7,5,5],\n",
    "    [4,0,2,3,8],\n",
    "    [7,2,0,3,4],\n",
    "    [5,3,3,0,6],\n",
    "    [5,8,4,6,0]\n",
    "]\n",
    "\n",
    "n=len(g)\n",
    "dp={}\n",
    "print(\"minimum cost=\",cost(0,[0],g,dp))\n",
    "for i in dp:\n",
    "    print(i)"
   ]
  },
  {
   "cell_type": "code",
   "execution_count": 31,
   "id": "24dd8190-af44-4cf4-9724-024b0e41d42e",
   "metadata": {},
   "outputs": [
    {
     "name": "stdin",
     "output_type": "stream",
     "text": [
      " ABABABCANFKABABCNKABABCACNDA\n",
      " ABABCA\n"
     ]
    },
    {
     "name": "stdout",
     "output_type": "stream",
     "text": [
      "[2, 18]\n",
      "2\n"
     ]
    }
   ],
   "source": [
    "## FINDING INDEX OF A SEQUNECE\n",
    "s=input()\n",
    "p=input()\n",
    "n=len(p)\n",
    "index=[]\n",
    "count=0\n",
    "for i in range(len(s)):\n",
    "    if s[i:i+n]==p:\n",
    "        index.append(i)\n",
    "        count+=1\n",
    "print(index)        \n",
    "print(count)\n"
   ]
  },
  {
   "cell_type": "markdown",
   "id": "1ab05ac8-b747-46d5-96ab-3c12682040a1",
   "metadata": {},
   "source": []
  },
  {
   "cell_type": "code",
   "execution_count": null,
   "id": "1979c967-38eb-4d31-a504-3398e17af60d",
   "metadata": {},
   "outputs": [],
   "source": []
  }
 ],
 "metadata": {
  "kernelspec": {
   "display_name": "Python 3 (ipykernel)",
   "language": "python",
   "name": "python3"
  },
  "language_info": {
   "codemirror_mode": {
    "name": "ipython",
    "version": 3
   },
   "file_extension": ".py",
   "mimetype": "text/x-python",
   "name": "python",
   "nbconvert_exporter": "python",
   "pygments_lexer": "ipython3",
   "version": "3.12.3"
  }
 },
 "nbformat": 4,
 "nbformat_minor": 5
}
