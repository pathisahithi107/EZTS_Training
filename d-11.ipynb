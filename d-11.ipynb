{
 "cells": [
  {
   "cell_type": "code",
   "execution_count": 14,
   "id": "a8006d8d-df89-4797-9c34-2953978d6a1a",
   "metadata": {},
   "outputs": [
    {
     "name": "stdout",
     "output_type": "stream",
     "text": [
      "0\n",
      "7\n",
      "12\n",
      "17\n",
      "19\n",
      "21\n",
      "27\n",
      "29\n",
      "34\n",
      "38\n",
      "75\n",
      "99\n",
      "100\n",
      "134\n",
      "143\n"
     ]
    }
   ],
   "source": [
    "class node:\n",
    "    def __init__(self,data):\n",
    "        self.val=data\n",
    "        self.left=None\n",
    "        self.right=None\n",
    "        self.height=1\n",
    "\n",
    "def insert(root,super):\n",
    "    if not root:\n",
    "        return node(super)\n",
    "    if super<root.val:\n",
    "        root.left=insert(root.left,super)\n",
    "    else:\n",
    "        root.right=insert(root.right,super)\n",
    "    root.height = 1+max(ght(root.right),ght(root.left))\n",
    "    BF=get_BF(root)\n",
    "    #rr\n",
    "    if BF>1 and super <root.left.val:\n",
    "        return rightrotate(root)\n",
    "    #rl\n",
    "    if BF>1 and super >root.left.val:\n",
    "        root.left=left_rotate(root.left)\n",
    "        return rightrotate(root)\n",
    "    #ll\n",
    "    if BF<-1 and super >root.right.val:\n",
    "        return left_rotate(root)\n",
    "    #lr\n",
    "    if BF<-1 and super <root.right.val:\n",
    "        root.right=rightrotate(root.right)\n",
    "        return left_rotate(root)\n",
    "    return root\n",
    "\n",
    "\n",
    "def left_rotate(A):\n",
    "       B=A.right\n",
    "       temp=B.left\n",
    "\n",
    "       B.left=A\n",
    "       A.right=temp\n",
    "\n",
    "       A.height = 1 + max(ght(A.left),ght(A.right))\n",
    "       B.height = 1 + max(ght(B.left),ght(A.right))\n",
    "       \n",
    "       return B\n",
    "def rightrotate(A):\n",
    "       B=A.left\n",
    "       temp=B.right\n",
    "\n",
    "       B.right=A\n",
    "       A.left=temp\n",
    "\n",
    "       A.height = 1 + max(ght(A.left),ght(A.right))\n",
    "       B.height = 1 + max(ght(B.left),ght(A.right))\n",
    "       \n",
    "       return B\n",
    "       \n",
    "def ght(root):\n",
    "        if not root:\n",
    "            return 0\n",
    "        return root.height\n",
    "def get_BF(root):\n",
    "        if not root:\n",
    "            return 0\n",
    "        return ght(root.left)-ght(root.right)\n",
    "def inorder(root):\n",
    "       if not root:\n",
    "           return\n",
    "       inorder(root.left)\n",
    "       print(root.val)\n",
    "       inorder(root.right)\n",
    "        \n",
    "if __name__==\"__main__\":\n",
    "    root=None\n",
    "    vl=[19,99,75,7,21,34,38,27,134,100,29,0,12,17,143]\n",
    "    for i in vl:\n",
    "        root=insert(root,i)\n",
    "    inorder(root)\n",
    "    "
   ]
  },
  {
   "cell_type": "code",
   "execution_count": 28,
   "id": "ae7f093d-f6cc-4e15-a420-db4fcacf6eed",
   "metadata": {},
   "outputs": [
    {
     "name": "stdin",
     "output_type": "stream",
     "text": [
      " 1004\n"
     ]
    },
    {
     "name": "stdout",
     "output_type": "stream",
     "text": [
      "5\n"
     ]
    }
   ],
   "source": [
    "n=int(input())\n",
    "count=0\n",
    "for i in range(n+1):\n",
    "    if len(str(i))<=3:\n",
    "        continue\n",
    "    elif len(str(i))%3==0:\n",
    "        count+=len(str(i))//3-1\n",
    "    else:\n",
    "        count+=len(str(i))//3\n",
    "print(count)"
   ]
  },
  {
   "cell_type": "code",
   "execution_count": 50,
   "id": "aa12fdc6-cf71-4a77-a928-76eac0801067",
   "metadata": {},
   "outputs": [
    {
     "name": "stdout",
     "output_type": "stream",
     "text": [
      "1\n"
     ]
    }
   ],
   "source": [
    "n=[5,-3,4,-2,8,-9,5,-10]\n",
    "n.sort()\n",
    "res=1\n",
    "for i in n:\n",
    "    if res==i:\n",
    "        res+=1\n",
    "print(res)    \n",
    "    \n",
    "   "
   ]
  },
  {
   "cell_type": "code",
   "execution_count": 10,
   "id": "76b2e8f0-f484-46ab-b859-6b1ac792b636",
   "metadata": {},
   "outputs": [
    {
     "name": "stdout",
     "output_type": "stream",
     "text": [
      "-2\n"
     ]
    }
   ],
   "source": [
    "l=[4,-1,-3,6,-2,-1,3,2,-8,-2]\n",
    "sum=max=0\n",
    "for i in range(0,len(l)):\n",
    "    sum=l[i]\n",
    "    if max<sum:\n",
    "        max =sum\n",
    "        pos=i\n",
    "print(sum)\n"
   ]
  },
  {
   "cell_type": "code",
   "execution_count": 11,
   "id": "4d7a38c9-6f88-48fe-a9a7-f71661c06b43",
   "metadata": {},
   "outputs": [
    {
     "name": "stdout",
     "output_type": "stream",
     "text": [
      "-2\n",
      "6\n"
     ]
    }
   ],
   "source": [
    "l=[4,-1,-3,6,-2,-1,3,2,-8,-2]\n",
    "sum=max=0\n",
    "for i in range(0,len(l)):\n",
    "    sum=l[i]\n",
    "    if max<sum:\n",
    "        max =sum\n",
    "        pos=i\n",
    "print(sum)\n",
    "print(max)\n"
   ]
  },
  {
   "cell_type": "code",
   "execution_count": null,
   "id": "a9dedf2b-c81f-45c8-9431-e17965d1ec1b",
   "metadata": {},
   "outputs": [],
   "source": []
  }
 ],
 "metadata": {
  "kernelspec": {
   "display_name": "Python 3 (ipykernel)",
   "language": "python",
   "name": "python3"
  },
  "language_info": {
   "codemirror_mode": {
    "name": "ipython",
    "version": 3
   },
   "file_extension": ".py",
   "mimetype": "text/x-python",
   "name": "python",
   "nbconvert_exporter": "python",
   "pygments_lexer": "ipython3",
   "version": "3.12.0"
  }
 },
 "nbformat": 4,
 "nbformat_minor": 5
}
