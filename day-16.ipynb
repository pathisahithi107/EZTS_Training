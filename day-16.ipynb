{
 "cells": [
  {
   "cell_type": "code",
   "execution_count": 1,
   "id": "d1d578b2-59c3-4fc2-adf5-2f9e419c6dd1",
   "metadata": {},
   "outputs": [
    {
     "name": "stdout",
     "output_type": "stream",
     "text": [
      "[10, 100, 22, 42, 50, 92, 56, 47, 78, 99]\n"
     ]
    }
   ],
   "source": [
    "#LINEAR HASHING\n",
    "L=[22,10,47,42,56,100,50,92,99,78]\n",
    "n=len(L)\n",
    "hk=[False]*10\n",
    "for i in L:\n",
    "    h_k=i%10\n",
    "    for j in range(n):\n",
    "        hk1=(h_k+j)%10\n",
    "        if hk[hk1]==False:\n",
    "            hk[hk1]=i\n",
    "            break\n",
    "        \n",
    "print(hk)\n",
    "\n"
   ]
  },
  {
   "cell_type": "code",
   "execution_count": 2,
   "id": "62f159c0-1786-4100-be12-260ea10e6cac",
   "metadata": {},
   "outputs": [
    {
     "name": "stdout",
     "output_type": "stream",
     "text": [
      "[20, 56, 22, 62, 100, 15, 16, 47, 7, 39]\n"
     ]
    }
   ],
   "source": [
    "l=[47,22,16,15,20,7,39,56,62,100]\n",
    "h=[False]*10\n",
    "for i in l:\n",
    "    h_k=i%10\n",
    "    for j in range (len(l)):\n",
    "        hk=(h_k+j)%10\n",
    "        if h[hk] == False:\n",
    "            h[hk]=i\n",
    "            break\n",
    "print(h)"
   ]
  },
  {
   "cell_type": "code",
   "execution_count": 3,
   "id": "2d450016-9581-4578-80e1-8b290cbf8f11",
   "metadata": {},
   "outputs": [
    {
     "name": "stdout",
     "output_type": "stream",
     "text": [
      "[81, 34, 46, 56, 45, 104, 70, 37, 39, 20, False]\n"
     ]
    }
   ],
   "source": [
    "#DOUBLE HASHING\n",
    "l=[20,34,45,70,56,81,104,37,46,39]\n",
    "h=[False]*11\n",
    "for i in l: \n",
    "    h1k=i%11\n",
    "    for j in range(len(l)):\n",
    "        h2k=(8-(i%8))\n",
    "        hk=(h1k+j*h2k)%11\n",
    "        if h[hk] == False:\n",
    "            h[hk]=i\n",
    "            break\n",
    "\n",
    "print(h)"
   ]
  },
  {
   "cell_type": "code",
   "execution_count": null,
   "id": "73669c30-9c0e-42bc-ab24-b9aba250563f",
   "metadata": {},
   "outputs": [],
   "source": []
  }
 ],
 "metadata": {
  "kernelspec": {
   "display_name": "Python 3 (ipykernel)",
   "language": "python",
   "name": "python3"
  },
  "language_info": {
   "codemirror_mode": {
    "name": "ipython",
    "version": 3
   },
   "file_extension": ".py",
   "mimetype": "text/x-python",
   "name": "python",
   "nbconvert_exporter": "python",
   "pygments_lexer": "ipython3",
   "version": "3.12.0"
  }
 },
 "nbformat": 4,
 "nbformat_minor": 5
}
