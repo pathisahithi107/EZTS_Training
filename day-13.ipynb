{
 "cells": [
  {
   "cell_type": "markdown",
   "id": "783839a6-ab89-4d13-814e-00c66894d785",
   "metadata": {},
   "source": [
    "## Graph Algorithm\n"
   ]
  },
  {
   "cell_type": "code",
   "execution_count": null,
   "id": "cacaf9eb-1564-4c11-b1ba-c7c020cc9ba0",
   "metadata": {},
   "outputs": [],
   "source": [
    "## Prim's algorithm\n"
   ]
  },
  {
   "cell_type": "code",
   "execution_count": 3,
   "id": "5dc050e1-7808-4bce-aff0-d774e6d842c2",
   "metadata": {},
   "outputs": [
    {
     "name": "stdout",
     "output_type": "stream",
     "text": [
      "inf\n",
      "2 4 1\n",
      "(2, 4, 1)\n",
      "(4, 7, 3)\n",
      "(7, 10, 2)\n",
      "(4, 8, 3)\n",
      "(8, 1, 2)\n",
      "(2, 3, 4)\n",
      "(2, 6, 5)\n",
      "(4, 5, 6)\n",
      "(5, 9, 8)\n"
     ]
    }
   ],
   "source": [
    "Graph=[\n",
    "    [ 0, 7,-1,-1,-1,-1,-1, 2,-1,-1],\n",
    "    [ 7, 0, 4, 1,-1, 5,-1,-1,-1,-1],\n",
    "    [-1, 4, 0,-1,-1,-1,-1, 8,-1,-1],\n",
    "    [-1, 1,-1, 0, 6, 8, 3, 3,-1,-1],\n",
    "    [-1,-1,-1, 6, 0,-1,-1, 6, 8,-1],\n",
    "    [-1, 5,-1, 8,-1, 0,-1,-1,-1,-1],\n",
    "    [-1,-1,-1, 3,-1,-1, 0,-1, 9, 2],\n",
    "    [ 2,-1, 8, 3, 6,-1,-1, 0,-1,-1],\n",
    "    [-1,-1,-1,-1, 8,-1, 9,-1, 0,-1],\n",
    "    [-1,-1,-1,-1,-1,-1, 2,-1,-1, 0]\n",
    "]\n",
    "\n",
    "visited=[False]*len(Graph)\n",
    "min=float('inf')\n",
    "x=y=-1\n",
    "print(min)\n",
    "for i in range(len(Graph)):\n",
    "    for j in range(len(Graph[i])):\n",
    "        if Graph[i][j]==0 or graph[i][j]==-1:\n",
    "            continue\n",
    "        elif min>Graph[i][j]:\n",
    "            min=Graph[i][j]\n",
    "            x=i\n",
    "            y=j\n",
    "print(x+1,y+1,min)\n",
    "\n",
    "visited[x]=True\n",
    "visited[y]=True\n",
    "MST=[]\n",
    "MST.append(tuple((x+1,y+1,min)))\n",
    "\n",
    "while False in visited:\n",
    "    min=float('inf')\n",
    "    for i in range(len(visited)):\n",
    "        if visited[i]==True:\n",
    "           for j in range(len(Graph[i])):\n",
    "               if Graph[i][j]==0 or Graph[i][j]==-1 or visited[j]==True:\n",
    "                  continue\n",
    "               elif min>Graph[i][j]:\n",
    "                   min=Graph[i][j]\n",
    "                   x=i\n",
    "                   y=j\n",
    "    visited[y]=True\n",
    "    MST.append(tuple((x+1,y+1,min)))\n",
    "for i in MST:\n",
    "    print(i)"
   ]
  },
  {
   "cell_type": "markdown",
   "id": "b68c6798-e3bd-4339-b42f-59d8df907f83",
   "metadata": {},
   "source": [
    "## Dijkstra's algorithm"
   ]
  },
  {
   "cell_type": "code",
   "execution_count": null,
   "id": "1abbb2c7-b782-464f-92f6-a555b29e9975",
   "metadata": {},
   "outputs": [],
   "source": [
    "graph=[\n",
    "     [ 0, 4,-1,-1,-1,-1,-1, 8,-1,-1],\n",
    "     [ 4, 8,-1,-1,-1,-1,-1, 11,-1,-1],"
   ]
  }
 ],
 "metadata": {
  "kernelspec": {
   "display_name": "Python 3 (ipykernel)",
   "language": "python",
   "name": "python3"
  },
  "language_info": {
   "codemirror_mode": {
    "name": "ipython",
    "version": 3
   },
   "file_extension": ".py",
   "mimetype": "text/x-python",
   "name": "python",
   "nbconvert_exporter": "python",
   "pygments_lexer": "ipython3",
   "version": "3.12.0"
  }
 },
 "nbformat": 4,
 "nbformat_minor": 5
}
