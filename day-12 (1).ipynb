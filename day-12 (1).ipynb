{
 "cells": [
  {
   "cell_type": "markdown",
   "id": "1039b02c-4ba2-40bb-9260-e3384a4577c1",
   "metadata": {},
   "source": [
    "## Job Sequencing"
   ]
  },
  {
   "cell_type": "code",
   "execution_count": 4,
   "id": "857af4f7-b8a6-42f1-a2e6-5d011fc86b56",
   "metadata": {},
   "outputs": [
    {
     "name": "stdout",
     "output_type": "stream",
     "text": [
      "51\n"
     ]
    }
   ],
   "source": [
    "def calc_max(P,W,C,n):\n",
    "    if n==0 or C ==0:\n",
    "        return 0\n",
    "    if (W[n-1]>C):\n",
    "        return calc_max(P,W,C,n-1)\n",
    "    else:\n",
    "        return max(P[n-1]+calc_max(P,W,C-W[n-1],n-1),calc_max(P,W,C,n-1))\n",
    "\n",
    "P=[5,10,15,7,8,9,4]\n",
    "W=[1,3,5,4,1,3,2]\n",
    "C=15\n",
    "n=len(P)\n",
    "print(calc_max(P,W,C,n))"
   ]
  },
  {
   "cell_type": "code",
   "execution_count": 6,
   "id": "dbdb5bce-8f7c-4776-89e2-9a9f5ed13b63",
   "metadata": {},
   "outputs": [
    {
     "name": "stdout",
     "output_type": "stream",
     "text": [
      "51\n",
      "[[-1, -1, -1, -1, -1, -1, -1, -1, -1, -1, -1, -1, -1, -1, -1, -1], [-1, 5, 5, 5, 5, 5, 5, 5, 5, 5, 5, 5, 5, 5, 5, 5], [-1, 5, 5, 10, 15, 15, 15, 15, 15, 15, 15, 15, 15, 15, 15, 15], [-1, -1, -1, -1, -1, 15, 20, 20, 25, 30, 30, 30, 30, 30, 30, 30], [-1, -1, -1, -1, -1, -1, -1, -1, -1, 30, 30, 30, 32, 37, 37, 37], [-1, -1, -1, -1, -1, -1, -1, -1, -1, -1, 38, -1, 38, 40, -1, 45], [-1, -1, -1, -1, -1, -1, -1, -1, -1, -1, -1, -1, -1, 47, -1, 47], [-1, -1, -1, -1, -1, -1, -1, -1, -1, -1, -1, -1, -1, -1, -1, 51]]\n"
     ]
    }
   ],
   "source": [
    "def calc_max(P,W,C,n):\n",
    "    if n==0 or C ==0:\n",
    "        return 0\n",
    "    if DP[n][C]!=-1:\n",
    "        return DP[n][C]\n",
    "    if (W[n-1]<=C):\n",
    "        DP[n][C]=max(P[n-1]+calc_max(P,W,C-W[n-1],n-1),calc_max(P,W,C,n-1))\n",
    "        return  DP[n][C]\n",
    "    else:\n",
    "        DP[n][C]=calc_max(P,W,C,n-1)\n",
    "        return DP[n][C]\n",
    "P=[5,10,15,7,8,9,4]\n",
    "W=[1,3,5,4,1,3,2]\n",
    "C=15\n",
    "n=len(P)\n",
    "DP=[[-1 for i in range(C+1)] for j in range(n+1)]\n",
    "\n",
    "print(calc_max(P,W,C,n))\n",
    "print(DP)"
   ]
  },
  {
   "cell_type": "code",
   "execution_count": 3,
   "id": "4e0ee69e-9a52-42c4-ba44-e5fc22843ce7",
   "metadata": {},
   "outputs": [
    {
     "name": "stdout",
     "output_type": "stream",
     "text": [
      "51\n",
      "[[-1, -1, -1, -1, -1, -1, -1, -1, -1, -1, -1, -1, -1, -1, -1, -1], [-1, 5, 5, 5, 5, 5, 5, 5, 5, 5, 5, 5, 5, 5, 5, 5], [-1, 5, 5, 10, 15, 15, 15, 15, 15, 15, 15, 15, 15, 15, 15, 15], [-1, -1, -1, -1, -1, 15, 20, 20, 25, 30, 30, 30, 30, 30, 30, 30], [-1, -1, -1, -1, -1, -1, -1, -1, -1, 30, 30, 30, 32, 37, 37, 37], [-1, -1, -1, -1, -1, -1, -1, -1, -1, -1, 38, -1, 38, 40, -1, 45], [-1, -1, -1, -1, -1, -1, -1, -1, -1, -1, -1, -1, -1, 47, -1, 47], [-1, -1, -1, -1, -1, -1, -1, -1, -1, -1, -1, -1, -1, -1, -1, 51]]\n"
     ]
    }
   ],
   "source": [
    " def calc_max(P,W,C,n):\n",
    "    if n==0 or C ==0:\n",
    "        return 0\n",
    "    if DP[n][C]!=-1:\n",
    "        return DP[n][C]\n",
    "    if (W[n-1]<=C):\n",
    "        DP[n][C]=max(P[n-1]+calc_max(P,W,C-W[n-1],n-1),calc_max(P,W,C,n-1))\n",
    "        return  DP[n][C]\n",
    "    else:\n",
    "        DP[n][C]=calc_max(P,W,C,n-1)\n",
    "        return DP[n][C]\n",
    "P=[5,10,15,7,8,9,4]\n",
    "W=[1,3,5,4,1,3,2]\n",
    "C=15\n",
    "n=len(P)\n",
    "DP=[[-1 for i in range(C+1)] for j in range(n+1)]\n",
    "\n",
    "print(calc_max(P,W,C,n))\n",
    "print(DP)"
   ]
  },
  {
   "cell_type": "code",
   "execution_count": 8,
   "id": "cd939d56-622a-4e3e-85e0-2de43e78d8a1",
   "metadata": {},
   "outputs": [
    {
     "name": "stdout",
     "output_type": "stream",
     "text": [
      "0\n",
      "[[0, 0, 0, 0, 0, 0, 0, 0, 0, 0, 0, 0, 0, 0, 0, 0], [0, 0, 0, 0, 0, 0, 0, 0, 0, 0, 0, 0, 0, 0, 0, 0], [0, 0, 0, 0, 0, 0, 0, 0, 0, 0, 0, 0, 0, 0, 0, 0], [0, 0, 0, 0, 0, 0, 0, 0, 0, 0, 0, 0, 0, 0, 0, 0], [0, 0, 0, 0, 0, 0, 0, 0, 0, 0, 0, 0, 0, 0, 0, 0], [0, 0, 0, 0, 0, 0, 0, 0, 0, 0, 0, 0, 0, 0, 0, 0], [0, 0, 0, 0, 0, 0, 0, 0, 0, 0, 0, 0, 0, 0, 0, 0], [0, 0, 0, 0, 0, 0, 0, 0, 0, 0, 0, 0, 0, 0, 0, 0]]\n"
     ]
    }
   ],
   "source": [
    "def calc_max(P,W,C,n):\n",
    "    if n==0 or C ==0:\n",
    "        return 0\n",
    "    if DP[n][C]!=-1:\n",
    "        return DP[n][C]\n",
    "    if (W[n-1]<=C):\n",
    "        DP[n][C]=max(P[n-1]+calc_max(P,W,C-W[n-1],n-1),calc_max(P,W,C,n-1))\n",
    "        return  DP[n][C]\n",
    "    else:\n",
    "        DP[n][C]=calc_max(P,W,C,n-1)\n",
    "        return DP[n][C]\n",
    "P=[5,10,15,7,8,9,4]\n",
    "W=[1,3,5,4,1,3,2]\n",
    "C=15\n",
    "n=len(P)\n",
    "DP=[[0 for i in range(C+1)] for j in range(n+1)]\n",
    "\n",
    "print(calc_max(P,W,C,n))\n",
    "print(DP)"
   ]
  },
  {
   "cell_type": "code",
   "execution_count": 13,
   "id": "965d0555-45d3-44e4-b069-7c1419be8ebc",
   "metadata": {},
   "outputs": [
    {
     "name": "stdin",
     "output_type": "stream",
     "text": [
      " 15\n"
     ]
    },
    {
     "name": "stdout",
     "output_type": "stream",
     "text": [
      "[0, 0, 0, 0, 0, 0, 0, 0, 0, 0, 0, 0, 0, 0, 0, 0]\n",
      "[0, 0, 0, 0, 0, 0, 0, 0, 0, 0, 0, 0, 0, 0, 0, 5]\n",
      "[0, 0, 0, 0, 0, 0, 0, 0, 0, 0, 0, 0, 0, 0, 0, 10]\n",
      "[0, 0, 0, 0, 0, 0, 0, 0, 0, 0, 0, 0, 0, 0, 0, 15]\n",
      "[0, 0, 0, 0, 0, 0, 0, 0, 0, 0, 0, 0, 0, 0, 0, 15]\n",
      "[0, 0, 0, 0, 0, 0, 0, 0, 0, 0, 0, 0, 0, 0, 0, 15]\n",
      "[0, 0, 0, 0, 0, 0, 0, 0, 0, 0, 0, 0, 0, 0, 0, 15]\n",
      "[0, 0, 0, 0, 0, 0, 0, 0, 0, 0, 0, 0, 0, 0, 0, 15]\n"
     ]
    }
   ],
   "source": [
    "p=[5,10,15,7,8,9,4]\n",
    "w=[1,3,5,4,1,3,2]\n",
    "c=int(input())\n",
    "n=len(p)\n",
    "dp=[[0 for i in range(c+1)]for j in range(n+1)]\n",
    "for i in range(1,n+1):\n",
    "    for j in range(1,c+1):\n",
    "        if i-1>=0:\n",
    "           dp[i][c]=max(dp[i-1][c],(p[i-1]+dp[i-1][c-w[i-1]]))\n",
    "for i in dp:\n",
    "    print(i)"
   ]
  },
  {
   "cell_type": "code",
   "execution_count": null,
   "id": "59456276-ae12-48d7-913b-b9881326c00c",
   "metadata": {},
   "outputs": [],
   "source": []
  }
 ],
 "metadata": {
  "kernelspec": {
   "display_name": "Python 3 (ipykernel)",
   "language": "python",
   "name": "python3"
  },
  "language_info": {
   "codemirror_mode": {
    "name": "ipython",
    "version": 3
   },
   "file_extension": ".py",
   "mimetype": "text/x-python",
   "name": "python",
   "nbconvert_exporter": "python",
   "pygments_lexer": "ipython3",
   "version": "3.12.0"
  }
 },
 "nbformat": 4,
 "nbformat_minor": 5
}
